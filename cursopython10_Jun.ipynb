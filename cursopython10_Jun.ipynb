{
 "cells": [
  {
   "cell_type": "code",
   "execution_count": 7,
   "metadata": {},
   "outputs": [
    {
     "name": "stdout",
     "output_type": "stream",
     "text": [
      "Ingrese numero: 8\n",
      "Ingrese  otro numero: 5\n",
      "13.0\n"
     ]
    }
   ],
   "source": [
    "numerouno = float(input(\"Ingrese numero: \"))\n",
    "numerodos = float(input(\"Ingrese  otro numero: \"))\n",
    "suma = numerouno + numerodos\n",
    "print(suma)"
   ]
  },
  {
   "cell_type": "code",
   "execution_count": 18,
   "metadata": {},
   "outputs": [
    {
     "name": "stdout",
     "output_type": "stream",
     "text": [
      "Ingrese numero1: 5\n",
      "Ingrese numero2: 5\n",
      "Ingrese numero3: 5\n",
      "El valor es: 15.0\n"
     ]
    }
   ],
   "source": [
    "while True:\n",
    "    try:\n",
    "        num1 = float(input(\"Ingrese numero1: \"))\n",
    "        num2 = float(input(\"Ingrese numero2: \"))\n",
    "        num3 = float(input(\"Ingrese numero3: \"))\n",
    "        suma=  num1 + num2 + num3\n",
    "        print(\"El valor es:\",suma)\n",
    "        break\n",
    "    except ValueError:\n",
    "        print(\"Oops! ingrese un numero\")"
   ]
  },
  {
   "cell_type": "code",
   "execution_count": 17,
   "metadata": {},
   "outputs": [
    {
     "name": "stdout",
     "output_type": "stream",
     "text": [
      "5\n"
     ]
    }
   ],
   "source": [
    "var1 = 10\n",
    "var2 = 2\n",
    "var3 = 1\n",
    "var4 = 2\n",
    "resta= var1 - var2 - var3 - var4\n",
    "print(resta)\n"
   ]
  },
  {
   "cell_type": "code",
   "execution_count": 21,
   "metadata": {},
   "outputs": [
    {
     "name": "stdout",
     "output_type": "stream",
     "text": [
      "Ingrese numero1: 1\n",
      "es mayor\n"
     ]
    }
   ],
   "source": [
    "x = float(input(\"Ingrese numero1: \"))\n",
    "if x > 0 :\n",
    "    print(\"es mayor\")"
   ]
  },
  {
   "cell_type": "code",
   "execution_count": 70,
   "metadata": {},
   "outputs": [
    {
     "name": "stdout",
     "output_type": "stream",
     "text": [
      "Karen Rojas paga 5% de impuesto por un salario de:  200000 con un total de impuesto:  100000.0\n"
     ]
    }
   ],
   "source": [
    "nom = \"Karen Rojas\"\n",
    "sal = 200000\n",
    "\n",
    "if sal >= 200000 :\n",
    "    \n",
    "    if sal < 400000 :\n",
    "        \n",
    "        imp = sal * 0.5\n",
    "        \n",
    "        print(nom, \"paga 5% de impuesto por un salario de: \", sal, \"con un total de impuesto: \", imp)\n",
    "        \n",
    "    elif sal >= 400000 and sal < 600000 :\n",
    "        \n",
    "        imp = sal * 0.10\n",
    "        \n",
    "        print(nom, \"paga 10% de impuesto por un salario de:\", sal, \"con un total de impuesto: \", imp)\n",
    "        \n",
    "    elif sal >= 600000 :\n",
    "        \n",
    "        imp = sal * 0.15\n",
    "        \n",
    "        print(nom, \"paga 15% de impuesto por un salario de:\", sal, \"con un total de impuesto: \", imp)\n",
    "else :\n",
    "    print(\"No paga impuesto\")"
   ]
  },
  {
   "cell_type": "code",
   "execution_count": 72,
   "metadata": {},
   "outputs": [],
   "source": [
    "x,y,z, m = 5, 6, 7, 10"
   ]
  },
  {
   "cell_type": "code",
   "execution_count": null,
   "metadata": {},
   "outputs": [],
   "source": []
  }
 ],
 "metadata": {
  "kernelspec": {
   "display_name": "Python 3",
   "language": "python",
   "name": "python3"
  },
  "language_info": {
   "codemirror_mode": {
    "name": "ipython",
    "version": 3
   },
   "file_extension": ".py",
   "mimetype": "text/x-python",
   "name": "python",
   "nbconvert_exporter": "python",
   "pygments_lexer": "ipython3",
   "version": "3.5.2"
  }
 },
 "nbformat": 4,
 "nbformat_minor": 2
}
